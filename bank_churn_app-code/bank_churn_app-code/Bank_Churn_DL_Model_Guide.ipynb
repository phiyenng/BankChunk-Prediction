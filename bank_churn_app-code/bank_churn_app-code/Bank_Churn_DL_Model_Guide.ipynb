{
 "cells": [
  {
   "cell_type": "markdown",
   "id": "0fc3a3d8",
   "metadata": {},
   "source": [
    "# 🧠 Bank Customer Churn Prediction - Deep Learning Model"
   ]
  },
  {
   "cell_type": "markdown",
   "id": "77a1ef7e",
   "metadata": {},
   "source": [
    "## ✅ 1. Cài đặt thư viện"
   ]
  },
  {
   "cell_type": "code",
   "execution_count": null,
   "id": "2d55cdd8",
   "metadata": {},
   "outputs": [],
   "source": [
    "!pip install pandas numpy scikit-learn tensorflow matplotlib seaborn"
   ]
  },
  {
   "cell_type": "markdown",
   "id": "2bd722d9",
   "metadata": {},
   "source": [
    "## 📁 2. Đọc và xử lý dữ liệu"
   ]
  },
  {
   "cell_type": "code",
   "execution_count": null,
   "id": "cc61a1f3",
   "metadata": {},
   "outputs": [],
   "source": [
    "import pandas as pd\n",
    "from sklearn.model_selection import train_test_split\n",
    "from sklearn.preprocessing import LabelEncoder, StandardScaler\n",
    "\n",
    "# Đọc dữ liệu\n",
    "df = pd.read_csv(\"churn_data.csv\")\n",
    "\n",
    "# Mã hóa biến phân loại\n",
    "label_enc = LabelEncoder()\n",
    "df['Gender'] = label_enc.fit_transform(df['Gender'])  # ví dụ: Male -> 1, Female -> 0\n",
    "\n",
    "# Chọn đặc trưng và nhãn\n",
    "X = df.drop('Exited', axis=1)\n",
    "y = df['Exited']\n",
    "\n",
    "# Chuẩn hóa dữ liệu\n",
    "scaler = StandardScaler()\n",
    "X_scaled = scaler.fit_transform(X)\n",
    "\n",
    "# Chia dữ liệu train/test\n",
    "X_train, X_test, y_train, y_test = train_test_split(X_scaled, y, test_size=0.3, random_state=42)"
   ]
  },
  {
   "cell_type": "markdown",
   "id": "f4a7e555",
   "metadata": {},
   "source": [
    "## 🏗️ 3. Xây dựng mô hình Deep Learning"
   ]
  },
  {
   "cell_type": "code",
   "execution_count": null,
   "id": "9f71237e",
   "metadata": {},
   "outputs": [],
   "source": [
    "import tensorflow as tf\n",
    "from tensorflow.keras.models import Sequential\n",
    "from tensorflow.keras.layers import Dense, Dropout, BatchNormalization\n",
    "\n",
    "# Khởi tạo mô hình\n",
    "model = Sequential()\n",
    "model.add(Dense(64, input_dim=X_train.shape[1], activation='relu'))\n",
    "model.add(Dropout(0.5))\n",
    "model.add(Dense(32, activation='relu'))\n",
    "model.add(BatchNormalization())\n",
    "model.add(Dense(1, activation='sigmoid'))\n",
    "\n",
    "# Compile\n",
    "model.compile(optimizer='adam', loss='binary_crossentropy', metrics=['accuracy', tf.keras.metrics.AUC()])"
   ]
  },
  {
   "cell_type": "markdown",
   "id": "bb809964",
   "metadata": {},
   "source": [
    "## 🏃 4. Huấn luyện mô hình"
   ]
  },
  {
   "cell_type": "code",
   "execution_count": null,
   "id": "6e9b0572",
   "metadata": {},
   "outputs": [],
   "source": [
    "history = model.fit(\n",
    "    X_train, y_train,\n",
    "    validation_split=0.2,\n",
    "    epochs=50,\n",
    "    batch_size=32,\n",
    "    verbose=1\n",
    ")"
   ]
  },
  {
   "cell_type": "markdown",
   "id": "47bad49f",
   "metadata": {},
   "source": [
    "## 📈 5. Đánh giá mô hình"
   ]
  },
  {
   "cell_type": "code",
   "execution_count": null,
   "id": "4e8c809a",
   "metadata": {},
   "outputs": [],
   "source": [
    "from sklearn.metrics import classification_report, roc_auc_score\n",
    "\n",
    "# Dự đoán\n",
    "y_pred_prob = model.predict(X_test)\n",
    "y_pred = (y_pred_prob > 0.5).astype(\"int32\")\n",
    "\n",
    "# Báo cáo đánh giá\n",
    "print(classification_report(y_test, y_pred))\n",
    "print(\"AUC:\", roc_auc_score(y_test, y_pred_prob))"
   ]
  },
  {
   "cell_type": "markdown",
   "id": "650063f4",
   "metadata": {},
   "source": [
    "## 📊 6. Vẽ biểu đồ lịch sử huấn luyện"
   ]
  },
  {
   "cell_type": "code",
   "execution_count": null,
   "id": "faaee041",
   "metadata": {},
   "outputs": [],
   "source": [
    "import matplotlib.pyplot as plt\n",
    "\n",
    "plt.plot(history.history['accuracy'], label='Train Accuracy')\n",
    "plt.plot(history.history['val_accuracy'], label='Val Accuracy')\n",
    "plt.title('Accuracy Over Epochs')\n",
    "plt.xlabel('Epochs')\n",
    "plt.ylabel('Accuracy')\n",
    "plt.legend()\n",
    "plt.show()"
   ]
  },
  {
   "cell_type": "markdown",
   "id": "bd40c64a",
   "metadata": {},
   "source": [
    "## 💾 7. Lưu mô hình đã huấn luyện"
   ]
  },
  {
   "cell_type": "code",
   "execution_count": null,
   "id": "63197a36",
   "metadata": {},
   "outputs": [],
   "source": [
    "model.save(\"model.h5\")"
   ]
  }
 ],
 "metadata": {},
 "nbformat": 4,
 "nbformat_minor": 5
}
